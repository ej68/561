{
  "nbformat": 4,
  "nbformat_minor": 0,
  "metadata": {
    "colab": {
      "name": "FinalProject.ipynb",
      "version": "0.3.2",
      "provenance": [],
      "collapsed_sections": [],
      "include_colab_link": true
    },
    "kernelspec": {
      "name": "python3",
      "display_name": "Python 3"
    },
    "accelerator": "GPU"
  },
  "cells": [
    {
      "cell_type": "markdown",
      "metadata": {
        "id": "view-in-github",
        "colab_type": "text"
      },
      "source": [
        "<a href=\"https://colab.research.google.com/github/ej68/561/blob/master/FinalProject.ipynb\" target=\"_parent\"><img src=\"https://colab.research.google.com/assets/colab-badge.svg\" alt=\"Open In Colab\"/></a>"
      ]
    },
    {
      "metadata": {
        "id": "by-4Y0iB1rJD",
        "colab_type": "code",
        "colab": {
          "base_uri": "https://localhost:8080/",
          "height": 34
        },
        "outputId": "1c01f013-21d9-4cd9-fd14-a30bfcbc5dd9"
      },
      "cell_type": "code",
      "source": [
        "import tensorflow as tf\n",
        "import numpy as np\n",
        "import os\n",
        "import matplotlib.pyplot as plt\n",
        "import matplotlib.image as mpimg\n",
        "import matplotlib.colors as colors\n",
        "from PIL import Image\n",
        "import urllib\n",
        "import requests\n",
        "import json\n",
        "import keras\n"
      ],
      "execution_count": 1,
      "outputs": [
        {
          "output_type": "stream",
          "text": [
            "Using TensorFlow backend.\n"
          ],
          "name": "stderr"
        }
      ]
    },
    {
      "metadata": {
        "id": "PFsxuwdDQK5w",
        "colab_type": "code",
        "colab": {}
      },
      "cell_type": "code",
      "source": [
        "config = tf.ConfigProto()\n",
        "config.gpu_options.allow_growth = True\n",
        "config.log_device_placement = True"
      ],
      "execution_count": 0,
      "outputs": []
    },
    {
      "metadata": {
        "id": "KPYUBc6vAu_9",
        "colab_type": "code",
        "colab": {}
      },
      "cell_type": "code",
      "source": [
        "# Get pokemon images from pokeapi.co\n",
        "# Issues with images: size not uniform, whitespace in some images is coded as 0 0 0 0 and others as 1 1 1 0 (RGBA) - either way they are transparent but the gan will get pointlessly confused? most likely idk\n",
        "pokedex = {}\n",
        "types = []\n",
        "imagesize = 128\n",
        "for i in range(1,803):\n",
        "  pokemon = json.loads(requests.get(\"https://pokeapi.co/api/v2/pokemon/\"+str(i)).text)\n",
        "  # Want the following: Pokemon name, pokemon sprite (\"front default\"), anything we would want to condition on (e.g. type(s), generation, anything else?) (size?)\n",
        "  typesJSON = pokemon.get(\"types\")\n",
        "  poketypes = []\n",
        "  for j in typesJSON:\n",
        "    poketypes.append(j.get(\"type\").get(\"name\"))\n",
        "\n",
        "  types.append(poketypes)\n",
        "\n",
        "  imgurl = pokemon.get(\"sprites\").get(\"front_default\")\n",
        "  img = urllib.request.urlopen(imgurl)\n",
        "  unpadded = mpimg.imread(img)\n",
        "  padded = np.pad(unpadded,\n",
        "      ((int((imagesize-unpadded.shape[0])/2), int((imagesize-unpadded.shape[0])/2)), \n",
        "       (int((imagesize-unpadded.shape[0])/2), int((imagesize-unpadded.shape[0])/2)), \n",
        "       (0, 0)),                      \n",
        "      mode = 'constant', constant_values = 0)\n",
        "\n",
        "if unpadded[0,0,0] == 0:\n",
        "  alpha1 = 0 # Original value\n",
        "  red, green, blue, alpha = padded[:,:,0], padded[:,:,1], padded[:,:,2], padded[:,:,3]\n",
        "  mask = (alpha==alpha1)\n",
        "  padded[:,:,0] = np.maximum(red, mask)\n",
        "  padded[:,:,1] = np.maximum(green, mask)\n",
        "  padded[:,:,2] = np.maximum(blue, mask)\n",
        "  padded[:,:,3] = np.maximum(alpha, mask)\n",
        "\n",
        "  np.savetxt(fname=\"pokemon\"+str(i)+\".csv\", delimiter=\",\", X=padded.flatten())\n",
        "  pokedex[i] = padded  \n",
        "\n",
        "  if i % 100 == 0:\n",
        "    plt.figure()\n",
        "    plt.subplot(221)\n",
        "    plt.axis('off')\n",
        "    plt.imshow(pokedex.get(i))\n",
        "    plt.subplot(222)\n",
        "    plt.axis('off')\n",
        "    plt.imshow(pokedex.get(i-25))    \n",
        "    plt.subplot(223)\n",
        "    plt.axis('off')\n",
        "    plt.imshow(pokedex.get(i-50))    \n",
        "    plt.subplot(224)\n",
        "    plt.axis('off')\n",
        "    plt.imshow(pokedex.get(i-75))\n",
        "    plt.show()"
      ],
      "execution_count": 0,
      "outputs": []
    },
    {
      "metadata": {
        "id": "gDxPIjwN2Wnh",
        "colab_type": "code",
        "colab": {}
      },
      "cell_type": "code",
      "source": [
        "def variables_from_scope(scope_name):\n",
        "  return tf.get_collection(tf.GraphKeys.TRAINABLE_VARIABLES, scope=scope_name)\n",
        "\n",
        "# Graph Parameters\n",
        "z_dimension = 64\n",
        "intermediate_layer_sizes = [128*2*3, 128*32*3]\n",
        "image_size = 128 * 128 * 3\n",
        "batch_size = 50\n",
        "iterations = 1000\n",
        "\n",
        "def generator(z):\n",
        "  hidden_layer_0 = tf.layers.dense(z, intermediate_layer_sizes[0], \n",
        "                                  name = \"G0\", activation = tf.nn.relu)\n",
        "  hidden_layer_1 = tf.layers.dense(hidden_layer_0, intermediate_layer_sizes[1],\n",
        "                                  name = \"G1\", activation = tf.nn.relu)\n",
        "  fake_X = tf.layers.dense(hidden_layer_1, image_size, name = \"G2\",\n",
        "                          activation = tf.sigmoid)\n",
        "  return fake_X\n",
        "\n",
        "def discriminator(image):\n",
        "  hidden_layer_0 = tf.layers.dense(image, intermediate_layer_sizes[1], \n",
        "                                  name = \"D0\", activation = tf.nn.relu)\n",
        "  hidden_layer_1 = tf.layers.dense(hidden_layer_0, intermediate_layer_sizes[0],\n",
        "                                  name = \"D1\", activation = tf.nn.relu)\n",
        "  D_output = tf.layers.dense(hidden_layer_1, 1, \n",
        "                             name = \"D2\", activation = tf.sigmoid)\n",
        "  return D_output\n",
        " "
      ],
      "execution_count": 0,
      "outputs": []
    },
    {
      "metadata": {
        "id": "XaQg82uCn3fc",
        "colab_type": "code",
        "colab": {}
      },
      "cell_type": "code",
      "source": [
        "tf.reset_default_graph()\n",
        "# Placeholders\n",
        "real_X = tf.placeholder(tf.float32, [None, image_size])\n",
        "z = tf.placeholder(tf.float32, [None, z_dimension])\n",
        "# Generator\n",
        "with tf.variable_scope(\"generator\") as scope:\n",
        "  fake_X = generator(z)\n",
        "\n",
        "# Discriminator\n",
        "with tf.variable_scope(\"discriminator\") as scope:\n",
        "  d_on_fake = discriminator(fake_X)\n",
        "  scope.reuse_variables()\n",
        "  d_on_real = discriminator(real_X)\n",
        "  \n",
        "# Loss\n",
        "g_loss = -tf.reduce_mean(tf.log(d_on_fake))\n",
        "d_loss = -tf.reduce_mean(tf.log(d_on_real) + tf.log(1. - d_on_fake))\n",
        "\n",
        "# Optimizer\n",
        "optimizer = tf.train.AdamOptimizer()\n",
        "g_step = optimizer.minimize(g_loss,\n",
        "                           var_list = variables_from_scope(\"generator\"))\n",
        "d_step = optimizer.minimize(d_loss,\n",
        "                           var_list = variables_from_scope(\"discriminator\"))\n",
        "# Initializer\n",
        "initialize_all = tf.global_variables_initializer()"
      ],
      "execution_count": 0,
      "outputs": []
    },
    {
      "metadata": {
        "id": "R4zBM88IuX64",
        "colab_type": "code",
        "colab": {}
      },
      "cell_type": "code",
      "source": [
        "def visualize_row(images, img_dim = 128, cmap = 'RGB'):\n",
        "  im = np.concatenate(np.reshape(images, [-1, img_dim, img_dim]),1)\n",
        "  plt.figure()\n",
        "  plt.axis(\"off\")\n",
        "  plt.imshow(im, cmap = cmap)\n",
        "  plt.show()"
      ],
      "execution_count": 0,
      "outputs": []
    },
    {
      "metadata": {
        "id": "FQ2JihZ2pggc",
        "colab_type": "code",
        "colab": {}
      },
      "cell_type": "code",
      "source": [
        "def make_noise():\n",
        "  return np.random.uniform(-1.0, 1.0, [batch_size, z_dimension])\n",
        "\n",
        "def next_feed_dict():\n",
        "  keys = random.sample(list(pokedex), batch_size)\n",
        "  images = [pokedex.get(key) for key in keys]\n",
        "  return {real_X: images,\n",
        "         z: make_noise()}\n",
        "          \n",
        "sess = tf.Session()\n",
        "sess.run(initialize_all)\n",
        "\n",
        "for i in range(iterations):\n",
        "  sess.run(g_step, feed_dict = next_feed_dict())\n",
        "  sess.run(d_step, feed_dict = next_feed_dict())\n",
        "  if t % 100 == 0 or t+1 == iterations:\n",
        "    fake_data = sess.run(fake_X, feed_dict={z:make_noise()})\n",
        "    visualize_row(fake_data[:10])"
      ],
      "execution_count": 0,
      "outputs": []
    },
    {
      "metadata": {
        "id": "vVeUqNJewZgj",
        "colab_type": "code",
        "colab": {}
      },
      "cell_type": "code",
      "source": [
        ""
      ],
      "execution_count": 0,
      "outputs": []
    }
  ]
}